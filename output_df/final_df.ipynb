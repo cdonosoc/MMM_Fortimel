{
 "cells": [
  {
   "cell_type": "code",
   "execution_count": 2,
   "metadata": {},
   "outputs": [],
   "source": [
    "import pandas as pd"
   ]
  },
  {
   "cell_type": "code",
   "execution_count": 6,
   "metadata": {},
   "outputs": [],
   "source": [
    "# Load data\n",
    "\n",
    "df = pd.read_excel('final_df_dc2.xlsx')"
   ]
  },
  {
   "cell_type": "code",
   "execution_count": null,
   "metadata": {},
   "outputs": [],
   "source": []
  },
  {
   "cell_type": "code",
   "execution_count": 7,
   "metadata": {},
   "outputs": [
    {
     "data": {
      "text/html": [
       "<div>\n",
       "<style scoped>\n",
       "    .dataframe tbody tr th:only-of-type {\n",
       "        vertical-align: middle;\n",
       "    }\n",
       "\n",
       "    .dataframe tbody tr th {\n",
       "        vertical-align: top;\n",
       "    }\n",
       "\n",
       "    .dataframe thead th {\n",
       "        text-align: right;\n",
       "    }\n",
       "</style>\n",
       "<table border=\"1\" class=\"dataframe\">\n",
       "  <thead>\n",
       "    <tr style=\"text-align: right;\">\n",
       "      <th></th>\n",
       "      <th>Unnamed: 0</th>\n",
       "      <th>date</th>\n",
       "      <th>email_cost</th>\n",
       "      <th>phone_cost</th>\n",
       "      <th>f2f_cost</th>\n",
       "      <th>videocall_cost</th>\n",
       "      <th>Invoiced Sales (CAF)</th>\n",
       "    </tr>\n",
       "  </thead>\n",
       "  <tbody>\n",
       "    <tr>\n",
       "      <th>0</th>\n",
       "      <td>0</td>\n",
       "      <td>2021-02-07</td>\n",
       "      <td>98.28</td>\n",
       "      <td>2083.68</td>\n",
       "      <td>686.43</td>\n",
       "      <td>0.00</td>\n",
       "      <td>94997.94</td>\n",
       "    </tr>\n",
       "    <tr>\n",
       "      <th>1</th>\n",
       "      <td>1</td>\n",
       "      <td>2021-02-14</td>\n",
       "      <td>421.20</td>\n",
       "      <td>2980.82</td>\n",
       "      <td>991.51</td>\n",
       "      <td>104.16</td>\n",
       "      <td>13722.43</td>\n",
       "    </tr>\n",
       "    <tr>\n",
       "      <th>2</th>\n",
       "      <td>2</td>\n",
       "      <td>2021-02-21</td>\n",
       "      <td>730.08</td>\n",
       "      <td>3820.08</td>\n",
       "      <td>381.35</td>\n",
       "      <td>208.32</td>\n",
       "      <td>64698.45</td>\n",
       "    </tr>\n",
       "    <tr>\n",
       "      <th>3</th>\n",
       "      <td>3</td>\n",
       "      <td>2021-02-28</td>\n",
       "      <td>351.00</td>\n",
       "      <td>4254.18</td>\n",
       "      <td>2593.18</td>\n",
       "      <td>520.80</td>\n",
       "      <td>145500.07</td>\n",
       "    </tr>\n",
       "    <tr>\n",
       "      <th>4</th>\n",
       "      <td>4</td>\n",
       "      <td>2021-03-07</td>\n",
       "      <td>659.88</td>\n",
       "      <td>4456.76</td>\n",
       "      <td>1677.94</td>\n",
       "      <td>1093.68</td>\n",
       "      <td>27786.52</td>\n",
       "    </tr>\n",
       "  </tbody>\n",
       "</table>\n",
       "</div>"
      ],
      "text/plain": [
       "   Unnamed: 0       date  email_cost  phone_cost  f2f_cost  videocall_cost  \\\n",
       "0           0 2021-02-07       98.28     2083.68    686.43            0.00   \n",
       "1           1 2021-02-14      421.20     2980.82    991.51          104.16   \n",
       "2           2 2021-02-21      730.08     3820.08    381.35          208.32   \n",
       "3           3 2021-02-28      351.00     4254.18   2593.18          520.80   \n",
       "4           4 2021-03-07      659.88     4456.76   1677.94         1093.68   \n",
       "\n",
       "   Invoiced Sales (CAF)  \n",
       "0              94997.94  \n",
       "1              13722.43  \n",
       "2              64698.45  \n",
       "3             145500.07  \n",
       "4              27786.52  "
      ]
     },
     "execution_count": 7,
     "metadata": {},
     "output_type": "execute_result"
    }
   ],
   "source": [
    "df.head()"
   ]
  },
  {
   "cell_type": "code",
   "execution_count": 8,
   "metadata": {},
   "outputs": [],
   "source": [
    "df_weekly = df.groupby(pd.Grouper(key='date', freq='W')).sum().reset_index()"
   ]
  },
  {
   "cell_type": "code",
   "execution_count": 9,
   "metadata": {},
   "outputs": [
    {
     "data": {
      "text/plain": [
       "(117, 7)"
      ]
     },
     "execution_count": 9,
     "metadata": {},
     "output_type": "execute_result"
    }
   ],
   "source": [
    "df_weekly.shape"
   ]
  },
  {
   "cell_type": "code",
   "execution_count": 10,
   "metadata": {},
   "outputs": [
    {
     "data": {
      "text/html": [
       "<div>\n",
       "<style scoped>\n",
       "    .dataframe tbody tr th:only-of-type {\n",
       "        vertical-align: middle;\n",
       "    }\n",
       "\n",
       "    .dataframe tbody tr th {\n",
       "        vertical-align: top;\n",
       "    }\n",
       "\n",
       "    .dataframe thead th {\n",
       "        text-align: right;\n",
       "    }\n",
       "</style>\n",
       "<table border=\"1\" class=\"dataframe\">\n",
       "  <thead>\n",
       "    <tr style=\"text-align: right;\">\n",
       "      <th></th>\n",
       "      <th>date</th>\n",
       "      <th>Unnamed: 0</th>\n",
       "      <th>email_cost</th>\n",
       "      <th>phone_cost</th>\n",
       "      <th>f2f_cost</th>\n",
       "      <th>videocall_cost</th>\n",
       "      <th>Invoiced Sales (CAF)</th>\n",
       "    </tr>\n",
       "  </thead>\n",
       "  <tbody>\n",
       "    <tr>\n",
       "      <th>0</th>\n",
       "      <td>2021-02-07</td>\n",
       "      <td>0</td>\n",
       "      <td>98.28</td>\n",
       "      <td>2083.68</td>\n",
       "      <td>686.43</td>\n",
       "      <td>0.00</td>\n",
       "      <td>94997.94</td>\n",
       "    </tr>\n",
       "    <tr>\n",
       "      <th>1</th>\n",
       "      <td>2021-02-14</td>\n",
       "      <td>1</td>\n",
       "      <td>421.20</td>\n",
       "      <td>2980.82</td>\n",
       "      <td>991.51</td>\n",
       "      <td>104.16</td>\n",
       "      <td>13722.43</td>\n",
       "    </tr>\n",
       "    <tr>\n",
       "      <th>2</th>\n",
       "      <td>2021-02-21</td>\n",
       "      <td>2</td>\n",
       "      <td>730.08</td>\n",
       "      <td>3820.08</td>\n",
       "      <td>381.35</td>\n",
       "      <td>208.32</td>\n",
       "      <td>64698.45</td>\n",
       "    </tr>\n",
       "    <tr>\n",
       "      <th>3</th>\n",
       "      <td>2021-02-28</td>\n",
       "      <td>3</td>\n",
       "      <td>351.00</td>\n",
       "      <td>4254.18</td>\n",
       "      <td>2593.18</td>\n",
       "      <td>520.80</td>\n",
       "      <td>145500.07</td>\n",
       "    </tr>\n",
       "    <tr>\n",
       "      <th>4</th>\n",
       "      <td>2021-03-07</td>\n",
       "      <td>4</td>\n",
       "      <td>659.88</td>\n",
       "      <td>4456.76</td>\n",
       "      <td>1677.94</td>\n",
       "      <td>1093.68</td>\n",
       "      <td>27786.52</td>\n",
       "    </tr>\n",
       "  </tbody>\n",
       "</table>\n",
       "</div>"
      ],
      "text/plain": [
       "        date  Unnamed: 0  email_cost  phone_cost  f2f_cost  videocall_cost  \\\n",
       "0 2021-02-07           0       98.28     2083.68    686.43            0.00   \n",
       "1 2021-02-14           1      421.20     2980.82    991.51          104.16   \n",
       "2 2021-02-21           2      730.08     3820.08    381.35          208.32   \n",
       "3 2021-02-28           3      351.00     4254.18   2593.18          520.80   \n",
       "4 2021-03-07           4      659.88     4456.76   1677.94         1093.68   \n",
       "\n",
       "   Invoiced Sales (CAF)  \n",
       "0              94997.94  \n",
       "1              13722.43  \n",
       "2              64698.45  \n",
       "3             145500.07  \n",
       "4              27786.52  "
      ]
     },
     "execution_count": 10,
     "metadata": {},
     "output_type": "execute_result"
    }
   ],
   "source": [
    "df_weekly.head()"
   ]
  },
  {
   "cell_type": "code",
   "execution_count": 11,
   "metadata": {},
   "outputs": [],
   "source": [
    "df_weekly.to_excel('final_df_week.xlsx')"
   ]
  },
  {
   "cell_type": "code",
   "execution_count": null,
   "metadata": {},
   "outputs": [],
   "source": []
  }
 ],
 "metadata": {
  "kernelspec": {
   "display_name": "Python 3",
   "language": "python",
   "name": "python3"
  },
  "language_info": {
   "codemirror_mode": {
    "name": "ipython",
    "version": 3
   },
   "file_extension": ".py",
   "mimetype": "text/x-python",
   "name": "python",
   "nbconvert_exporter": "python",
   "pygments_lexer": "ipython3",
   "version": "3.11.4"
  },
  "orig_nbformat": 4
 },
 "nbformat": 4,
 "nbformat_minor": 2
}
